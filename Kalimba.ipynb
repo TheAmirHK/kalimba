{
  "nbformat": 4,
  "nbformat_minor": 0,
  "metadata": {
    "colab": {
      "provenance": [],
      "authorship_tag": "ABX9TyM0SU7h19eQUOIysu4tPJcn",
      "include_colab_link": true
    },
    "kernelspec": {
      "name": "python3",
      "display_name": "Python 3"
    },
    "language_info": {
      "name": "python"
    }
  },
  "cells": [
    {
      "cell_type": "markdown",
      "metadata": {
        "id": "view-in-github",
        "colab_type": "text"
      },
      "source": [
        "<a href=\"https://colab.research.google.com/github/TheAmirHK/kalimba/blob/main/Kalimba.ipynb\" target=\"_parent\"><img src=\"https://colab.research.google.com/assets/colab-badge.svg\" alt=\"Open In Colab\"/></a>"
      ]
    },
    {
      "cell_type": "code",
      "execution_count": 1,
      "metadata": {
        "colab": {
          "base_uri": "https://localhost:8080/"
        },
        "id": "c6zzf9cJHuN4",
        "outputId": "1d505f27-6333-4b1f-980e-8d33aa8e57fe"
      },
      "outputs": [
        {
          "output_type": "stream",
          "name": "stdout",
          "text": [
            "Collecting pydub\n",
            "  Downloading pydub-0.25.1-py2.py3-none-any.whl.metadata (1.4 kB)\n",
            "Downloading pydub-0.25.1-py2.py3-none-any.whl (32 kB)\n",
            "Installing collected packages: pydub\n",
            "Successfully installed pydub-0.25.1\n"
          ]
        }
      ],
      "source": [
        "!pip install pydub\n"
      ]
    },
    {
      "cell_type": "code",
      "source": [
        "import concurrent.futures\n",
        "from pydub import AudioSegment\n",
        "import time"
      ],
      "metadata": {
        "id": "h4dxokU-g0kU"
      },
      "execution_count": 14,
      "outputs": []
    },
    {
      "cell_type": "code",
      "source": [
        "music_sheet = [\n",
        "    \"E\", \"G\", \"C°\", \"A\", \"G\", \"F\",\n",
        "    \"E\", \"G\", \"C°\", \"A\", \"G\", \"D\", \"D\",\n",
        "    \"D\", \"E\", \"B\",\n",
        "    \"C\", \"A\", \"G\",\n",
        "    \"E\", \"F\", \"F\", \"G\", \"F\", \"G\", \"D\",\n",
        "    \"A\", \"G\", \"B\", \"G\", \"A\", \"F\",\n",
        "    \"E\", \"D\", \"D\", \"F\", \"D\", \"C\",\n",
        "    \"E\", \"G\", \"C°\", \"A\", \"G\", \"F\",\n",
        "    \"E\", \"G\", \"C°\", \"A\", \"G\", \"D\", \"D\",\n",
        "    \"D\", \"E\", \"B\",\n",
        "    \"C\", \"A\", \"G\",\n",
        "    \"E\", \"F\", \"F\", \"G\", \"F\", \"G\", \"D\",\n",
        "    \"A\", \"G\", \"B\", \"G\", \"A\", \"F\",\n",
        "    \"E\", \"D\", \"D\", \"F\", \"D\", \"C\"\n",
        "]"
      ],
      "metadata": {
        "id": "uXhf9Zn6ggAz"
      },
      "execution_count": 18,
      "outputs": []
    },
    {
      "cell_type": "code",
      "source": [
        "real_notes = {\n",
        "    \"C°\": \"1.wav\",\n",
        "    \"D°\": \"2.wav\",\n",
        "    \"E°\": \"3.wav\",\n",
        "    \"F\": \"4.wav\",\n",
        "    \"G\": \"5.wav\",\n",
        "    \"A\": \"6.wav\",\n",
        "    \"B\": \"7.wav\",\n",
        "    \"C\": \"8.wav\",\n",
        "    \"D\": \"9.wav\",\n",
        "    \"E\": \"10.wav\",\n",
        "}"
      ],
      "metadata": {
        "id": "eq73KBORHxqJ"
      },
      "execution_count": 21,
      "outputs": []
    },
    {
      "cell_type": "code",
      "source": [
        "def process_note(note):\n",
        "    filename = real_notes[note]\n",
        "    audio = AudioSegment.from_wav(filename)\n",
        "    return audio[:1000]  # audio files are not edited and should be shorten and keep only the first 1s\n",
        "\n",
        "combined_audio = AudioSegment.empty()\n",
        "\n",
        "with concurrent.futures.ThreadPoolExecutor() as executor:\n",
        "    futures = [executor.submit(process_note, note) for note in music_sheet]\n",
        "\n",
        "    for future in concurrent.futures.as_completed(futures):\n",
        "        audio_segment = future.result()\n",
        "        if audio_segment:\n",
        "            combined_audio += audio_segment\n",
        "\n",
        "\n",
        "combined_audio.export(\"song.mp3\", format=\"mp3\")\n"
      ],
      "metadata": {
        "colab": {
          "base_uri": "https://localhost:8080/"
        },
        "id": "7O7LfDfLjCHj",
        "outputId": "ead5078c-a2bd-401f-f291-1436be8e30cf"
      },
      "execution_count": 22,
      "outputs": [
        {
          "output_type": "execute_result",
          "data": {
            "text/plain": [
              "<_io.BufferedRandom name='song.mp3'>"
            ]
          },
          "metadata": {},
          "execution_count": 22
        }
      ]
    }
  ]
}